{
  "nbformat": 4,
  "nbformat_minor": 0,
  "metadata": {
    "colab": {
      "provenance": [],
      "collapsed_sections": [],
      "history_visible": true
    },
    "kernelspec": {
      "name": "python3",
      "display_name": "Python 3"
    },
    "language_info": {
      "name": "python"
    }
  },
  "cells": [
    {
      "cell_type": "code",
      "execution_count": null,
      "metadata": {
        "colab": {
          "base_uri": "https://localhost:8080/"
        },
        "id": "tdUTvkRQbTNU",
        "outputId": "9d7ad80e-1aa7-4306-e3d6-c4891d0ff35a"
      },
      "outputs": [
        {
          "output_type": "stream",
          "name": "stdout",
          "text": [
            "Hello, how would you like me to call you? Peter\n",
            "Pff, there are better names!\n"
          ]
        }
      ],
      "source": [
        "\"\"\"\n",
        "Student Name: Jesús Ronaldo Gonzalez Candelaria\n",
        "Student ID: 1896928\n",
        "Class: Inteligencia Artificial // Thursday's N3\n",
        "A2 Python Exercises\n",
        "\"\"\"\n",
        "message = input(\"Hello, how would you like me to call you? \")\n",
        "a = \"John\"\n",
        "b = \"Ana\"\n",
        "c = \"Peter\"\n",
        "if (message == a):\n",
        "  print(\"Pff, there are better names!\")\n",
        "elif (message == b):\n",
        "  print (\"Pff, there are better names!\")\n",
        "elif (message == c):\n",
        "  print (\"Pff, there are better names!\")\n",
        "else:\n",
        "  print(\"Nice to meet you\", message)"
      ]
    },
    {
      "cell_type": "code",
      "source": [
        "List = [\"1\",\"apple\",\"book\",\"45\",\"soda\",\"65\",\"33\",\"8\",\"radio\"]\n",
        "print(List[8])\n",
        "\n",
        "NewList = List.copy()\n",
        "NewList.reverse()\n",
        "print(NewList)"
      ],
      "metadata": {
        "colab": {
          "base_uri": "https://localhost:8080/"
        },
        "id": "1-sDdLBygs9R",
        "outputId": "d31e7c1b-868d-4386-d884-98973b7d07a9"
      },
      "execution_count": null,
      "outputs": [
        {
          "output_type": "stream",
          "name": "stdout",
          "text": [
            "radio\n",
            "['radio', '8', '33', '65', 'soda', '45', 'book', 'apple', '1']\n"
          ]
        }
      ]
    },
    {
      "cell_type": "code",
      "source": [
        "def print_in_a_frame(*square):\n",
        "  size = max(len(word)for word in square)\n",
        "  print('*' * (size+3))\n",
        "  for word in square:\n",
        "    print('* {:<{}}'.format(word,size))\n",
        "  print('*' *(size+2))\n",
        "print_in_a_frame(\"My\",\"favorite\",\"food\",\"are\",\"spaguetti\",\"and\",\"meat\")"
      ],
      "metadata": {
        "colab": {
          "base_uri": "https://localhost:8080/"
        },
        "id": "3NTvXD4JkEjZ",
        "outputId": "4efe8d06-b023-4153-819e-e857c1fd1335"
      },
      "execution_count": 80,
      "outputs": [
        {
          "output_type": "stream",
          "name": "stdout",
          "text": [
            "************\n",
            "* My       \n",
            "* favorite \n",
            "* food     \n",
            "* are      \n",
            "* spaguetti\n",
            "* and      \n",
            "* meat     \n",
            "***********\n"
          ]
        }
      ]
    },
    {
      "cell_type": "code",
      "source": [],
      "metadata": {
        "id": "2Y4At4M1vssr"
      },
      "execution_count": null,
      "outputs": []
    }
  ]
}
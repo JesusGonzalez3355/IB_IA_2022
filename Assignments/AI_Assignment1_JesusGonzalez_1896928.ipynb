{
  "nbformat": 4,
  "nbformat_minor": 0,
  "metadata": {
    "colab": {
      "provenance": [],
      "collapsed_sections": [],
      "history_visible": true
    },
    "kernelspec": {
      "name": "python3",
      "display_name": "Python 3"
    },
    "language_info": {
      "name": "python"
    }
  },
  "cells": [
    {
      "cell_type": "code",
      "execution_count": 65,
      "metadata": {
        "colab": {
          "base_uri": "https://localhost:8080/"
        },
        "id": "tdUTvkRQbTNU",
        "outputId": "9d7ad80e-1aa7-4306-e3d6-c4891d0ff35a"
      },
      "outputs": [
        {
          "output_type": "stream",
          "name": "stdout",
          "text": [
            "Hello, how would you like me to call you? Peter\n",
            "Pff, there are better names!\n"
          ]
        }
      ],
      "source": [
        "\"\"\"\n",
        "Student Name: Jesús Ronaldo Gonzalez Candelaria\n",
        "Student ID: 1896928\n",
        "Class: Inteligencia Artificial // Thursday's N3\n",
        "A2 Python Exercises\n",
        "\"\"\"\n",
        "message = input(\"Hello, how would you like me to call you? \")\n",
        "a = \"John\"\n",
        "b = \"Ana\"\n",
        "c = \"Peter\"\n",
        "if (message == a):\n",
        "  print(\"Pff, there are better names!\")\n",
        "elif (message == b):\n",
        "  print (\"Pff, there are better names!\")\n",
        "elif (message == c):\n",
        "  print (\"Pff, there are better names!\")\n",
        "else:\n",
        "  print(\"Nice to meet you\", message)"
      ]
    },
    {
      "cell_type": "code",
      "source": [
        "List = [\"1\",\"apple\",\"book\",\"45\",\"soda\",\"65\",\"33\",\"8\",\"radio\"]\n",
        "print(List[8])\n",
        "\n",
        "NewList = List.copy()\n",
        "NewList.reverse()\n",
        "print(NewList)"
      ],
      "metadata": {
        "colab": {
          "base_uri": "https://localhost:8080/"
        },
        "id": "1-sDdLBygs9R",
        "outputId": "d31e7c1b-868d-4386-d884-98973b7d07a9"
      },
      "execution_count": 76,
      "outputs": [
        {
          "output_type": "stream",
          "name": "stdout",
          "text": [
            "radio\n",
            "['radio', '8', '33', '65', 'soda', '45', 'book', 'apple', '1']\n"
          ]
        }
      ]
    },
    {
      "cell_type": "code",
      "source": [
        "Food = [\"My\",\"favorite\",\"food\",\"are\",\"spaguetti\",\"and\",\"meat\"]\n",
        "for x in Food:\n",
        "  print(x)"
      ],
      "metadata": {
        "colab": {
          "base_uri": "https://localhost:8080/"
        },
        "id": "3NTvXD4JkEjZ",
        "outputId": "3e334153-d4c2-4b35-eb1c-77cb48821400"
      },
      "execution_count": 79,
      "outputs": [
        {
          "output_type": "stream",
          "name": "stdout",
          "text": [
            "My\n",
            "favorite\n",
            "food\n",
            "are\n",
            "spaguetti\n",
            "and\n",
            "meat\n"
          ]
        }
      ]
    },
    {
      "cell_type": "code",
      "source": [],
      "metadata": {
        "id": "2Y4At4M1vssr"
      },
      "execution_count": null,
      "outputs": []
    }
  ]
}